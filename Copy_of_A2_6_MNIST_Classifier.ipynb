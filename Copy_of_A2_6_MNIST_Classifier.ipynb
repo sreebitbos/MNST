{
  "cells": [
    {
      "cell_type": "markdown",
      "metadata": {
        "id": "view-in-github",
        "colab_type": "text"
      },
      "source": [
        "<a href=\"https://colab.research.google.com/github/sreebitbos/MNST/blob/main/Copy_of_A2_6_MNIST_Classifier.ipynb\" target=\"_parent\"><img src=\"https://colab.research.google.com/assets/colab-badge.svg\" alt=\"Open In Colab\"/></a>"
      ]
    },
    {
      "cell_type": "code",
      "execution_count": null,
      "metadata": {
        "id": "akKN5NozwhLM"
      },
      "outputs": [],
      "source": [
        "import numpy as np\n",
        "import pandas as pd\n",
        "import matplotlib.pyplot as plt\n",
        "import sklearn"
      ]
    },
    {
      "cell_type": "code",
      "execution_count": null,
      "metadata": {
        "id": "cIn9PU_OwhLT"
      },
      "outputs": [],
      "source": [
        "from sklearn.datasets import fetch_openml"
      ]
    },
    {
      "cell_type": "code",
      "execution_count": null,
      "metadata": {
        "colab": {
          "base_uri": "https://localhost:8080/"
        },
        "id": "qoauxSvLwhLU",
        "outputId": "848d2914-e706-4e0b-aceb-c3464220d989"
      },
      "outputs": [
        {
          "output_type": "execute_result",
          "data": {
            "text/plain": [
              "dict_keys(['data', 'target', 'frame', 'categories', 'feature_names', 'target_names', 'DESCR', 'details', 'url'])"
            ]
          },
          "metadata": {},
          "execution_count": 3
        }
      ],
      "source": [
        "mnist = fetch_openml(name='mnist_784', version=1)\n",
        "mnist.keys()"
      ]
    },
    {
      "cell_type": "code",
      "execution_count": null,
      "metadata": {
        "id": "sngiVqBowhLY",
        "outputId": "945cee3b-7918-419c-ecb7-e1b87b9ffa8e"
      },
      "outputs": [
        {
          "data": {
            "text/plain": [
              "((70000, 784), (70000,))"
            ]
          },
          "execution_count": 4,
          "metadata": {},
          "output_type": "execute_result"
        }
      ],
      "source": [
        "X, y = mnist['data'], mnist['target']\n",
        "X.shape, y.shape"
      ]
    },
    {
      "cell_type": "code",
      "execution_count": null,
      "metadata": {
        "id": "r3U34GZOwhLZ",
        "outputId": "0acdf254-7aa2-46bc-abbf-03a0534a25f5"
      },
      "outputs": [
        {
          "data": {
            "text/plain": [
              "((35000, 784), (35000,))"
            ]
          },
          "execution_count": 5,
          "metadata": {},
          "output_type": "execute_result"
        }
      ],
      "source": [
        "X, y = X[:35000], y[:35000]\n",
        "X.shape, y.shape"
      ]
    },
    {
      "cell_type": "code",
      "execution_count": null,
      "metadata": {
        "id": "Mzp-GYwiwhLa"
      },
      "outputs": [],
      "source": [
        "some_digit = X[0]\n",
        "some_digit_image = some_digit.reshape(28, 28)"
      ]
    },
    {
      "cell_type": "code",
      "execution_count": null,
      "metadata": {
        "id": "NT53hADKwhLc",
        "outputId": "7c9fb5d7-19fb-4e35-b9a1-3fb937672d06"
      },
      "outputs": [
        {
          "data": {
            "image/png": "[encoded data removed]",
            "text/plain": [
              "<Figure size 432x288 with 1 Axes>"
            ]
          },
          "metadata": {
            "needs_background": "light"
          },
          "output_type": "display_data"
        }
      ],
      "source": [
        "plt.imshow(some_digit_image, cmap='binary')\n",
        "plt.axis('off')\n",
        "plt.show()"
      ]
    },
    {
      "cell_type": "code",
      "execution_count": null,
      "metadata": {
        "id": "Wh5nr7aBwhLe",
        "outputId": "bfc07b1f-ac72-4104-c3c3-0229d0aa3219"
      },
      "outputs": [
        {
          "data": {
            "text/plain": [
              "'5'"
            ]
          },
          "execution_count": 8,
          "metadata": {},
          "output_type": "execute_result"
        }
      ],
      "source": [
        "y[0]"
      ]
    },
    {
      "cell_type": "code",
      "execution_count": null,
      "metadata": {
        "id": "jkgn8g24whLf"
      },
      "outputs": [],
      "source": [
        "y = y.astype(np.int8)"
      ]
    },
    {
      "cell_type": "code",
      "execution_count": null,
      "metadata": {
        "id": "7kNSB0r_whLg",
        "outputId": "cfb80a9d-19ce-4e0c-ebf1-d3e7c59c24b7"
      },
      "outputs": [
        {
          "data": {
            "text/plain": [
              "((30000, 784), (30000,), (5000, 784), (5000,))"
            ]
          },
          "execution_count": 10,
          "metadata": {},
          "output_type": "execute_result"
        }
      ],
      "source": [
        "X_train, y_train, X_test, y_test = X[:30000], y[:30000], X[30000:], y[30000:]\n",
        "X_train.shape, y_train.shape, X_test.shape, y_test.shape"
      ]
    },
    {
      "cell_type": "code",
      "execution_count": null,
      "metadata": {
        "id": "iwveo5ikwhLh"
      },
      "outputs": [],
      "source": [
        "y_train_5 = (y_train == 5)\n",
        "y_test_5 = (y_test == 5)"
      ]
    },
    {
      "cell_type": "code",
      "execution_count": null,
      "metadata": {
        "id": "oj3BiV5dwhLh"
      },
      "outputs": [],
      "source": [
        "from sklearn.linear_model import SGDClassifier"
      ]
    },
    {
      "cell_type": "code",
      "execution_count": null,
      "metadata": {
        "id": "ARq-kiufwhLh"
      },
      "outputs": [],
      "source": [
        "sgd_clf = SGDClassifier(n_jobs=-1, random_state=42)"
      ]
    },
    {
      "cell_type": "code",
      "execution_count": null,
      "metadata": {
        "id": "RVzuX5rdwhLi",
        "outputId": "77a6167b-5b77-4f48-ec12-25fb23428af6"
      },
      "outputs": [
        {
          "data": {
            "text/plain": [
              "SGDClassifier(n_jobs=-1, random_state=42)"
            ]
          },
          "execution_count": 14,
          "metadata": {},
          "output_type": "execute_result"
        }
      ],
      "source": [
        "sgd_clf.fit(X=X_train, y=y_train_5)"
      ]
    },
    {
      "cell_type": "code",
      "execution_count": null,
      "metadata": {
        "id": "AT7cEkXdwhLi",
        "outputId": "e613611d-faaa-4255-a663-9f0b41bb40b1"
      },
      "outputs": [
        {
          "data": {
            "text/plain": [
              "array([ True])"
            ]
          },
          "execution_count": 15,
          "metadata": {},
          "output_type": "execute_result"
        }
      ],
      "source": [
        "sgd_clf.predict(X=[some_digit])"
      ]
    },
    {
      "cell_type": "code",
      "execution_count": null,
      "metadata": {
        "id": "augjPit_whLj"
      },
      "outputs": [],
      "source": [
        "from sklearn.model_selection import StratifiedKFold\n",
        "from sklearn.base import clone"
      ]
    },
    {
      "cell_type": "code",
      "execution_count": null,
      "metadata": {
        "id": "KNDmb9iYwhLk",
        "outputId": "5e494ff6-d894-431a-a75c-00700eda3230"
      },
      "outputs": [
        {
          "name": "stderr",
          "output_type": "stream",
          "text": [
            "/Users/sreejithmadhavan/opt/anaconda3/lib/python3.8/site-packages/sklearn/model_selection/_split.py:293: FutureWarning: Setting a random_state has no effect since shuffle is False. This will raise an error in 0.24. You should leave random_state to its default (None), or set shuffle=True.\n",
            "  warnings.warn(\n"
          ]
        }
      ],
      "source": [
        "skfolds = StratifiedKFold(n_splits=3, random_state=42)"
      ]
    },
    {
      "cell_type": "code",
      "execution_count": null,
      "metadata": {
        "id": "O3LxhKc1whLk",
        "outputId": "55270c91-d59f-4c11-d265-bcd4d9df4b88"
      },
      "outputs": [
        {
          "name": "stdout",
          "output_type": "stream",
          "text": [
            "0.9458\n",
            "0.9634\n",
            "0.9603\n"
          ]
        }
      ],
      "source": [
        "for train_index, test_index in skfolds.split(X=X_train, y=y_train_5):\n",
        "    clone_clf = clone(sgd_clf)\n",
        "    X_train_folds = X_train[train_index]\n",
        "    y_train_folds = y_train_5[train_index]\n",
        "    X_test_folds = X_train[test_index]\n",
        "    y_test_folds = y_train_5[test_index]\n",
        "    clone_clf.fit(X_train_folds, y_train_folds)\n",
        "    y_pred = clone_clf.predict(X_test_folds)\n",
        "    num_correct = sum(y_pred == y_test_folds)\n",
        "    print(num_correct / len(y_pred))"
      ]
    },
    {
      "cell_type": "code",
      "execution_count": null,
      "metadata": {
        "id": "tfI_4zbnwhLl"
      },
      "outputs": [],
      "source": [
        "from sklearn.model_selection import cross_val_score"
      ]
    },
    {
      "cell_type": "code",
      "execution_count": null,
      "metadata": {
        "id": "EJRRdBh9whLm",
        "outputId": "08be00a2-5c85-4022-a1d5-948eb9dc12ee"
      },
      "outputs": [
        {
          "data": {
            "text/plain": [
              "array([0.968     , 0.96      , 0.96433333, 0.96266667, 0.9585    ])"
            ]
          },
          "execution_count": 20,
          "metadata": {},
          "output_type": "execute_result"
        }
      ],
      "source": [
        "scores = cross_val_score(estimator=clone(sgd_clf), X=X_train, y=y_train_5, cv=5, scoring=\"accuracy\", n_jobs=-1)\n",
        "scores"
      ]
    },
    {
      "cell_type": "code",
      "execution_count": null,
      "metadata": {
        "id": "NxqXTqvRwhLn"
      },
      "outputs": [],
      "source": [
        "from sklearn.base import BaseEstimator"
      ]
    },
    {
      "cell_type": "code",
      "execution_count": null,
      "metadata": {
        "id": "ygQwGfrFwhLo"
      },
      "outputs": [],
      "source": [
        "class Never5Classifier(BaseEstimator):\n",
        "    def fit(self, X, y=None):\n",
        "        pass\n",
        "    \n",
        "    def predict(self, X):\n",
        "        return np.zeros(shape=(len(X), 1), dtype=bool)"
      ]
    },
    {
      "cell_type": "code",
      "execution_count": null,
      "metadata": {
        "id": "kvj-ul4GwhLp"
      },
      "outputs": [],
      "source": [
        "never_5_classifier = Never5Classifier()"
      ]
    },
    {
      "cell_type": "code",
      "execution_count": null,
      "metadata": {
        "id": "khnj3ZrawhLq",
        "outputId": "6eb21f09-8e6a-45fd-9f40-5bd96ebf4b8f"
      },
      "outputs": [
        {
          "data": {
            "text/plain": [
              "array([0.91433333, 0.911     , 0.91016667, 0.90716667, 0.90583333])"
            ]
          },
          "execution_count": 24,
          "metadata": {},
          "output_type": "execute_result"
        }
      ],
      "source": [
        "scores = cross_val_score(estimator=never_5_classifier, X=X_train, y=y_train_5, cv=5, scoring=\"accuracy\", n_jobs=-1)\n",
        "scores"
      ]
    },
    {
      "cell_type": "code",
      "execution_count": null,
      "metadata": {
        "id": "QumF3KjywhLq"
      },
      "outputs": [],
      "source": [
        "from sklearn.model_selection import cross_val_predict"
      ]
    },
    {
      "cell_type": "code",
      "execution_count": null,
      "metadata": {
        "id": "C80GahGzwhLr"
      },
      "outputs": [],
      "source": [
        "y_train_pred = cross_val_predict(estimator=sgd_clf, X=X_train, y=y_train_5, cv=3, n_jobs=-1)"
      ]
    },
    {
      "cell_type": "code",
      "execution_count": null,
      "metadata": {
        "id": "7NHJGOLWwhLr",
        "outputId": "47a382b9-8470-419a-b9c4-7603d2d8a6b9"
      },
      "outputs": [
        {
          "data": {
            "text/plain": [
              "(30000,)"
            ]
          },
          "execution_count": 27,
          "metadata": {},
          "output_type": "execute_result"
        }
      ],
      "source": [
        "y_train_pred.shape"
      ]
    },
    {
      "cell_type": "code",
      "execution_count": null,
      "metadata": {
        "id": "m24K_txSwhLr"
      },
      "outputs": [],
      "source": [
        "from sklearn.metrics import confusion_matrix"
      ]
    },
    {
      "cell_type": "code",
      "execution_count": null,
      "metadata": {
        "id": "CGf0HCupwhLs",
        "outputId": "05edc798-07d5-4ad5-adb4-73c131132819"
      },
      "outputs": [
        {
          "data": {
            "text/plain": [
              "array([[26515,   776],\n",
              "       [  529,  2180]])"
            ]
          },
          "execution_count": 29,
          "metadata": {},
          "output_type": "execute_result"
        }
      ],
      "source": [
        "confusion_matrix(y_true=y_train_5, y_pred=y_train_pred)"
      ]
    },
    {
      "cell_type": "code",
      "execution_count": null,
      "metadata": {
        "id": "DxBHP4_CwhLs"
      },
      "outputs": [],
      "source": [
        "y_train_perfect_predictions = y_train_5.copy()"
      ]
    },
    {
      "cell_type": "code",
      "execution_count": null,
      "metadata": {
        "id": "zx65WPgCwhLs",
        "outputId": "67255841-8552-4434-9b69-47f91c85b3db"
      },
      "outputs": [
        {
          "data": {
            "text/plain": [
              "array([[27291,     0],\n",
              "       [    0,  2709]])"
            ]
          },
          "execution_count": 31,
          "metadata": {},
          "output_type": "execute_result"
        }
      ],
      "source": [
        "confusion_matrix(y_true=y_train_5, y_pred=y_train_perfect_predictions)"
      ]
    },
    {
      "cell_type": "code",
      "execution_count": null,
      "metadata": {
        "id": "_UeBl7FPwhLs"
      },
      "outputs": [],
      "source": [
        "from sklearn.metrics import precision_score, recall_score"
      ]
    },
    {
      "cell_type": "code",
      "execution_count": null,
      "metadata": {
        "id": "8IN-VmmkwhLs",
        "outputId": "cc00ea77-2c3c-4ef9-882f-ea969fd87ed4"
      },
      "outputs": [
        {
          "data": {
            "text/plain": [
              "0.7374830852503383"
            ]
          },
          "execution_count": 33,
          "metadata": {},
          "output_type": "execute_result"
        }
      ],
      "source": [
        "precision_score(y_true=y_train_5, y_pred=y_train_pred)"
      ]
    },
    {
      "cell_type": "code",
      "execution_count": null,
      "metadata": {
        "id": "Nhx4qOWNwhLt",
        "outputId": "80b29351-de3d-4574-9b6c-f6e8d2265b25"
      },
      "outputs": [
        {
          "data": {
            "text/plain": [
              "0.8047249907715024"
            ]
          },
          "execution_count": 34,
          "metadata": {},
          "output_type": "execute_result"
        }
      ],
      "source": [
        "recall_score(y_true=y_train_5, y_pred=y_train_pred)"
      ]
    },
    {
      "cell_type": "code",
      "execution_count": null,
      "metadata": {
        "id": "f6gchbSzwhLt"
      },
      "outputs": [],
      "source": [
        "from sklearn.metrics import f1_score"
      ]
    },
    {
      "cell_type": "code",
      "execution_count": null,
      "metadata": {
        "id": "ZyP8jatkwhLt",
        "outputId": "535b8aa0-b251-4973-8f56-2a367bc735d6"
      },
      "outputs": [
        {
          "data": {
            "text/plain": [
              "0.7696381288614299"
            ]
          },
          "execution_count": 36,
          "metadata": {},
          "output_type": "execute_result"
        }
      ],
      "source": [
        "f1_score(y_true=y_train_5, y_pred=y_train_pred)"
      ]
    },
    {
      "cell_type": "code",
      "execution_count": null,
      "metadata": {
        "id": "dsZtyNwkwhLu",
        "outputId": "abb9ae46-be4a-412f-88be-cd84aeb93201"
      },
      "outputs": [
        {
          "data": {
            "text/plain": [
              "array([11968.30313346])"
            ]
          },
          "execution_count": 37,
          "metadata": {},
          "output_type": "execute_result"
        }
      ],
      "source": [
        "y_scores = sgd_clf.decision_function([some_digit])\n",
        "y_scores"
      ]
    },
    {
      "cell_type": "code",
      "execution_count": null,
      "metadata": {
        "id": "ZeQJk9dvwhLu"
      },
      "outputs": [],
      "source": [
        "threshold = 0"
      ]
    },
    {
      "cell_type": "code",
      "execution_count": null,
      "metadata": {
        "id": "JUkFDbdiwhLu",
        "outputId": "4ce582be-44b7-47a9-819a-ea44863d88e7"
      },
      "outputs": [
        {
          "data": {
            "text/plain": [
              "array([ True])"
            ]
          },
          "execution_count": 39,
          "metadata": {},
          "output_type": "execute_result"
        }
      ],
      "source": [
        "y_some_digit_pred = (y_scores > threshold)\n",
        "y_some_digit_pred"
      ]
    },
    {
      "cell_type": "code",
      "execution_count": null,
      "metadata": {
        "id": "2BEMexr4whLu"
      },
      "outputs": [],
      "source": [
        "threshold = 8000"
      ]
    },
    {
      "cell_type": "code",
      "execution_count": null,
      "metadata": {
        "id": "xi-qKaDZwhLv",
        "outputId": "3c1d98ce-d38b-4088-bc87-aa0616e92173"
      },
      "outputs": [
        {
          "data": {
            "text/plain": [
              "array([ True])"
            ]
          },
          "execution_count": 41,
          "metadata": {},
          "output_type": "execute_result"
        }
      ],
      "source": [
        "y_some_digit_pred = (y_scores > threshold)\n",
        "y_some_digit_pred"
      ]
    },
    {
      "cell_type": "code",
      "execution_count": null,
      "metadata": {
        "id": "WRwna5X6whLv"
      },
      "outputs": [],
      "source": [
        "y_scores = cross_val_predict(estimator=sgd_clf, X=X_train, y=y_train_5, \n",
        "                             cv=3, method='decision_function', n_jobs=-1)"
      ]
    },
    {
      "cell_type": "code",
      "execution_count": null,
      "metadata": {
        "id": "sswOEpCCwhLv"
      },
      "outputs": [],
      "source": [
        "from sklearn.metrics import precision_recall_curve"
      ]
    },
    {
      "cell_type": "code",
      "execution_count": null,
      "metadata": {
        "id": "gKyquxukwhLw"
      },
      "outputs": [],
      "source": [
        "precision, recall, thresholds = precision_recall_curve(y_true=y_train_5, probas_pred=y_scores)"
      ]
    },
    {
      "cell_type": "code",
      "execution_count": null,
      "metadata": {
        "id": "yilEjLJowhLw"
      },
      "outputs": [],
      "source": [
        "def plot_precision_recall_vs_threshold(precisions, recalls, thresholds):\n",
        "    plt.plot(thresholds, precisions[:-1], \"b--\", label='Precision')\n",
        "    plt.plot(thresholds, recalls[:-1], \"g-\", label=\"Recall\")\n",
        "    plt.xlabel(\"Threshold\")\n",
        "    plt.grid()"
      ]
    },
    {
      "cell_type": "code",
      "execution_count": null,
      "metadata": {
        "id": "z9WgLBvlwhLx",
        "outputId": "ca6a467c-31cc-462b-bed2-7c606abe4edf"
      },
      "outputs": [
        {
          "data": {
            "image/png": "[encoded data removed]",
            "text/plain": [
              "<Figure size 432x288 with 1 Axes>"
            ]
          },
          "metadata": {
            "needs_background": "light"
          },
          "output_type": "display_data"
        }
      ],
      "source": [
        "plot_precision_recall_vs_threshold(precision, recall, thresholds)\n",
        "plt.show()"
      ]
    },
    {
      "cell_type": "code",
      "execution_count": null,
      "metadata": {
        "id": "Llm32xBrwhLx",
        "outputId": "8d38b2e3-144b-41c3-b582-1e7ca87f4dd8"
      },
      "outputs": [
        {
          "data": {
            "image/png": "[encoded data removed]",
            "text/plain": [
              "<Figure size 432x288 with 1 Axes>"
            ]
          },
          "metadata": {
            "needs_background": "light"
          },
          "output_type": "display_data"
        }
      ],
      "source": [
        "plt.plot(recall, precision)\n",
        "plt.xlabel('Recall')\n",
        "plt.ylabel('Precision')\n",
        "plt.grid()\n",
        "plt.show()"
      ]
    },
    {
      "cell_type": "code",
      "execution_count": null,
      "metadata": {
        "id": "WdbqX5OywhLy",
        "outputId": "ebecccea-5742-4442-c051-c003035b180f"
      },
      "outputs": [
        {
          "data": {
            "text/plain": [
              "12605.392565725113"
            ]
          },
          "execution_count": 48,
          "metadata": {},
          "output_type": "execute_result"
        }
      ],
      "source": [
        "threshold_90_precision = thresholds[np.argmax(precision > .9)]\n",
        "threshold_90_precision"
      ]
    },
    {
      "cell_type": "code",
      "execution_count": null,
      "metadata": {
        "id": "VBdevxa0whLy"
      },
      "outputs": [],
      "source": [
        "y_train_pred_90 = (y_scores > threshold_90_precision)"
      ]
    },
    {
      "cell_type": "code",
      "execution_count": null,
      "metadata": {
        "id": "j64HHFH3whLy",
        "outputId": "bc12e75e-8499-4981-d9e1-49905933f5d9"
      },
      "outputs": [
        {
          "data": {
            "text/plain": [
              "0.9003181336161188"
            ]
          },
          "execution_count": 50,
          "metadata": {},
          "output_type": "execute_result"
        }
      ],
      "source": [
        "precision = precision_score(y_true=y_train_5, y_pred=y_train_pred_90)\n",
        "precision"
      ]
    },
    {
      "cell_type": "code",
      "execution_count": null,
      "metadata": {
        "id": "WbIFVkoKwhLy",
        "outputId": "1f933bdf-9f31-4802-d48f-dc5deff4c4d0"
      },
      "outputs": [
        {
          "data": {
            "text/plain": [
              "0.6267995570321152"
            ]
          },
          "execution_count": 51,
          "metadata": {},
          "output_type": "execute_result"
        }
      ],
      "source": [
        "recall = recall_score(y_train_5, y_train_pred_90)\n",
        "recall"
      ]
    },
    {
      "cell_type": "code",
      "execution_count": null,
      "metadata": {
        "id": "JgXiml96whLz"
      },
      "outputs": [],
      "source": [
        "from sklearn.metrics import roc_curve"
      ]
    },
    {
      "cell_type": "code",
      "execution_count": null,
      "metadata": {
        "id": "fkDSGmdawhLz"
      },
      "outputs": [],
      "source": [
        "fpr, tpr, thresholds = roc_curve(y_true=y_train_5, y_score=y_scores)"
      ]
    },
    {
      "cell_type": "code",
      "execution_count": null,
      "metadata": {
        "id": "xJm1GaywwhLz"
      },
      "outputs": [],
      "source": [
        "def plot_roc_curve(fpr, tpr, label=None):\n",
        "    plt.plot(fpr, tpr, linewidth=2, label=label)\n",
        "    plt.plot([0,1], [0,1], 'k--', label='Random')\n",
        "    plt.grid()\n",
        "    plt.xlabel(\"False Positive Rate\")\n",
        "    plt.ylabel(\"True Positive Rate\")"
      ]
    },
    {
      "cell_type": "code",
      "execution_count": null,
      "metadata": {
        "id": "X5Xh5QaxwhLz",
        "outputId": "6a1b330b-dc18-4453-8172-1b6ceaf456ff"
      },
      "outputs": [
        {
          "data": {
            "image/png": "[encoded data removed]",
            "text/plain": [
              "<Figure size 432x288 with 1 Axes>"
            ]
          },
          "metadata": {
            "needs_background": "light"
          },
          "output_type": "display_data"
        }
      ],
      "source": [
        "plot_roc_curve(fpr, tpr, label='SGD')\n",
        "plt.legend(loc='lower right')\n",
        "plt.show()"
      ]
    },
    {
      "cell_type": "code",
      "execution_count": null,
      "metadata": {
        "id": "OyNzjuKswhL0"
      },
      "outputs": [],
      "source": [
        "from sklearn.metrics import roc_auc_score"
      ]
    },
    {
      "cell_type": "code",
      "execution_count": null,
      "metadata": {
        "id": "aa1abF9NwhL0",
        "outputId": "439444ef-2afc-4d69-9082-8eb9420d7597"
      },
      "outputs": [
        {
          "data": {
            "text/plain": [
              "0.9509867800410808"
            ]
          },
          "execution_count": 57,
          "metadata": {},
          "output_type": "execute_result"
        }
      ],
      "source": [
        "roc_auc_score(y_train_5, y_scores)"
      ]
    },
    {
      "cell_type": "code",
      "execution_count": null,
      "metadata": {
        "id": "y-vGIruxwhL0"
      },
      "outputs": [],
      "source": [
        "from sklearn.ensemble import RandomForestClassifier"
      ]
    },
    {
      "cell_type": "code",
      "execution_count": null,
      "metadata": {
        "id": "IqZtQNtnwhL1"
      },
      "outputs": [],
      "source": [
        "forest_clf = RandomForestClassifier(random_state=42)"
      ]
    },
    {
      "cell_type": "code",
      "execution_count": null,
      "metadata": {
        "id": "2JnL9Go-whL1"
      },
      "outputs": [],
      "source": [
        "y_probas_forest = cross_val_predict(estimator=forest_clf, X=X_train, \n",
        "                                    y=y_train_5, cv=5, \n",
        "                                    n_jobs=-1, method='predict_proba')"
      ]
    },
    {
      "cell_type": "code",
      "execution_count": null,
      "metadata": {
        "id": "mkb_1AI4whL2"
      },
      "outputs": [],
      "source": [
        "y_scores_forest = y_probas_forest[:, 1]  # P(X=5)"
      ]
    },
    {
      "cell_type": "code",
      "execution_count": null,
      "metadata": {
        "id": "gOgemHrhwhL2"
      },
      "outputs": [],
      "source": [
        "fpr_forest, tps_forest, threshs_forest = roc_curve(y_true=y_train_5, y_score=y_scores_forest)"
      ]
    },
    {
      "cell_type": "code",
      "execution_count": null,
      "metadata": {
        "id": "cGmtJgKYwhL3",
        "outputId": "c531ff11-c47c-44ba-8926-5bf81aa0211f"
      },
      "outputs": [
        {
          "data": {
            "image/png": "[encoded data removed]",
            "text/plain": [
              "<Figure size 432x288 with 1 Axes>"
            ]
          },
          "metadata": {
            "needs_background": "light"
          },
          "output_type": "display_data"
        }
      ],
      "source": [
        "plt.plot(fpr, tpr, 'b:', label='SGD')\n",
        "plot_roc_curve(fpr_forest, tps_forest, label=\"Random Forest\")\n",
        "plt.legend(loc=\"lower right\")\n",
        "plt.show()"
      ]
    },
    {
      "cell_type": "code",
      "execution_count": null,
      "metadata": {
        "id": "x42YVrbowhL3",
        "outputId": "2f45ef78-6b2a-481d-935c-7f66f80cba47"
      },
      "outputs": [
        {
          "data": {
            "text/plain": [
              "0.998160698309738"
            ]
          },
          "execution_count": 64,
          "metadata": {},
          "output_type": "execute_result"
        }
      ],
      "source": [
        "roc_auc_score(y_train_5, y_scores_forest)"
      ]
    },
    {
      "cell_type": "code",
      "execution_count": null,
      "metadata": {
        "id": "ytpSF3CGwhL3"
      },
      "outputs": [],
      "source": [
        "y_preds_forest = cross_val_predict(estimator=forest_clf, X=X_train, \n",
        "                                   y=y_train_5, cv=5, \n",
        "                                   n_jobs=-1)"
      ]
    },
    {
      "cell_type": "code",
      "execution_count": null,
      "metadata": {
        "id": "9eq39llfwhL3",
        "outputId": "14eb0c88-86ec-41a5-a3ee-9ca38a2ca9a7"
      },
      "outputs": [
        {
          "data": {
            "text/plain": [
              "0.989659629470056"
            ]
          },
          "execution_count": 66,
          "metadata": {},
          "output_type": "execute_result"
        }
      ],
      "source": [
        "precision_score(y_true=y_train_5, y_pred=y_preds_forest)"
      ]
    },
    {
      "cell_type": "code",
      "execution_count": null,
      "metadata": {
        "id": "vu1FTNTTwhL4",
        "outputId": "d11074ca-3c88-421e-b124-f85752b586c0"
      },
      "outputs": [
        {
          "data": {
            "text/plain": [
              "0.8479143595422666"
            ]
          },
          "execution_count": 67,
          "metadata": {},
          "output_type": "execute_result"
        }
      ],
      "source": [
        "recall_score(y_true=y_train_5, y_pred=y_preds_forest)"
      ]
    },
    {
      "cell_type": "code",
      "execution_count": null,
      "metadata": {
        "id": "Aj3Idee6whL4"
      },
      "outputs": [],
      "source": [
        "from sklearn.svm import LinearSVC"
      ]
    },
    {
      "cell_type": "code",
      "execution_count": null,
      "metadata": {
        "id": "sSMuA-OPwhL5"
      },
      "outputs": [],
      "source": [
        "svm_clf = LinearSVC()"
      ]
    },
    {
      "cell_type": "code",
      "execution_count": null,
      "metadata": {
        "id": "Mf-pSZMqwhL5",
        "outputId": "1624a782-6573-4293-fbd3-ae36d705874b"
      },
      "outputs": [
        {
          "data": {
            "text/plain": [
              "((30000, 784), (30000,))"
            ]
          },
          "execution_count": 70,
          "metadata": {},
          "output_type": "execute_result"
        }
      ],
      "source": [
        "X_train.shape, y_train.shape"
      ]
    },
    {
      "cell_type": "code",
      "execution_count": null,
      "metadata": {
        "id": "wNnVEeTswhL6",
        "outputId": "fdac2a76-b128-4d7e-c318-422b92591fe1"
      },
      "outputs": [
        {
          "name": "stderr",
          "output_type": "stream",
          "text": [
            "/Users/sreejithmadhavan/opt/anaconda3/lib/python3.8/site-packages/sklearn/svm/_base.py:976: ConvergenceWarning: Liblinear failed to converge, increase the number of iterations.\n",
            "  warnings.warn(\"Liblinear failed to converge, increase \"\n"
          ]
        },
        {
          "data": {
            "text/plain": [
              "LinearSVC()"
            ]
          },
          "execution_count": 71,
          "metadata": {},
          "output_type": "execute_result"
        }
      ],
      "source": [
        "svm_clf.fit(X=X_train, y=y_train)"
      ]
    },
    {
      "cell_type": "code",
      "execution_count": null,
      "metadata": {
        "id": "Ch0Q_hFYwhL6",
        "outputId": "81f62e73-0d12-4778-e4e8-8f23f3c9ebfb"
      },
      "outputs": [
        {
          "data": {
            "text/plain": [
              "array([3], dtype=int8)"
            ]
          },
          "execution_count": 72,
          "metadata": {},
          "output_type": "execute_result"
        }
      ],
      "source": [
        "svm_clf.predict([some_digit])"
      ]
    },
    {
      "cell_type": "code",
      "execution_count": null,
      "metadata": {
        "id": "mK4U062WwhL6",
        "outputId": "d4f123fa-8623-475e-e839-e7498c81e37f"
      },
      "outputs": [
        {
          "data": {
            "text/plain": [
              "array([[-3.1292318 , -7.57887431, -2.22651715,  0.12860617, -6.35631824,\n",
              "        -0.20648218, -7.81413321, -4.11351962, -3.48589272, -3.82556624]])"
            ]
          },
          "execution_count": 73,
          "metadata": {},
          "output_type": "execute_result"
        }
      ],
      "source": [
        "some_digit_scores = svm_clf.decision_function(X=[some_digit])\n",
        "some_digit_scores"
      ]
    },
    {
      "cell_type": "code",
      "execution_count": null,
      "metadata": {
        "id": "YRzmjo55whL7",
        "outputId": "4938b437-e379-47c5-848e-219aba68ce7c"
      },
      "outputs": [
        {
          "data": {
            "text/plain": [
              "3"
            ]
          },
          "execution_count": 74,
          "metadata": {},
          "output_type": "execute_result"
        }
      ],
      "source": [
        "np.argmax(some_digit_scores)"
      ]
    },
    {
      "cell_type": "code",
      "execution_count": null,
      "metadata": {
        "id": "9x-hnVsdwhL8",
        "outputId": "425ae357-22aa-42ec-8a36-6a93910276a4"
      },
      "outputs": [
        {
          "data": {
            "text/plain": [
              "array([0, 1, 2, 3, 4, 5, 6, 7, 8, 9], dtype=int8)"
            ]
          },
          "execution_count": 75,
          "metadata": {},
          "output_type": "execute_result"
        }
      ],
      "source": [
        "svm_clf.classes_"
      ]
    },
    {
      "cell_type": "code",
      "execution_count": null,
      "metadata": {
        "id": "ZzBwRJ91whL9",
        "outputId": "62198ef5-cda9-45a5-f72a-e2e7f9297bbb"
      },
      "outputs": [
        {
          "data": {
            "text/plain": [
              "3"
            ]
          },
          "execution_count": 76,
          "metadata": {},
          "output_type": "execute_result"
        }
      ],
      "source": [
        "svm_clf.classes_[np.argmax(some_digit_scores)]"
      ]
    },
    {
      "cell_type": "code",
      "execution_count": null,
      "metadata": {
        "id": "dQnJvqbuwhL9"
      },
      "outputs": [],
      "source": [
        "from sklearn.multiclass import OneVsRestClassifier"
      ]
    },
    {
      "cell_type": "code",
      "execution_count": null,
      "metadata": {
        "id": "9W1JWvbDwhL9"
      },
      "outputs": [],
      "source": [
        "ovr_clf = OneVsRestClassifier(estimator=LinearSVC(), n_jobs=-1)"
      ]
    },
    {
      "cell_type": "code",
      "execution_count": null,
      "metadata": {
        "id": "R2J9ycevwhL9",
        "outputId": "07385408-c653-4d8b-def2-b01f6db69a05"
      },
      "outputs": [
        {
          "data": {
            "text/plain": [
              "OneVsRestClassifier(estimator=LinearSVC(), n_jobs=-1)"
            ]
          },
          "execution_count": 79,
          "metadata": {},
          "output_type": "execute_result"
        }
      ],
      "source": [
        "ovr_clf.fit(X=X_train, y=y_train)"
      ]
    },
    {
      "cell_type": "code",
      "execution_count": null,
      "metadata": {
        "id": "6Q4OvqRmwhL9",
        "outputId": "ff4460a3-8cec-465b-a411-bfd7a380aff9"
      },
      "outputs": [
        {
          "data": {
            "text/plain": [
              "array([5], dtype=int8)"
            ]
          },
          "execution_count": 80,
          "metadata": {},
          "output_type": "execute_result"
        }
      ],
      "source": [
        "ovr_clf.predict([some_digit])"
      ]
    },
    {
      "cell_type": "code",
      "execution_count": null,
      "metadata": {
        "id": "X9Bg1x5UwhL-",
        "outputId": "976aff16-d813-4e41-a619-9338993b3ae9"
      },
      "outputs": [
        {
          "data": {
            "text/plain": [
              "10"
            ]
          },
          "execution_count": 81,
          "metadata": {},
          "output_type": "execute_result"
        }
      ],
      "source": [
        "len(ovr_clf.estimators_)"
      ]
    },
    {
      "cell_type": "code",
      "execution_count": null,
      "metadata": {
        "id": "daGnISL6whL-"
      },
      "outputs": [],
      "source": [
        "sgd_clf = SGDClassifier(n_jobs=-1, random_state=42)"
      ]
    },
    {
      "cell_type": "code",
      "execution_count": null,
      "metadata": {
        "id": "vTuCUNQswhL-",
        "outputId": "9a02e674-8a68-41b4-ff2b-949badcfd910"
      },
      "outputs": [
        {
          "data": {
            "text/plain": [
              "SGDClassifier(n_jobs=-1, random_state=42)"
            ]
          },
          "execution_count": 83,
          "metadata": {},
          "output_type": "execute_result"
        }
      ],
      "source": [
        "sgd_clf.fit(X_train, y_train)"
      ]
    },
    {
      "cell_type": "code",
      "execution_count": null,
      "metadata": {
        "id": "qhUE4LgowhL-",
        "outputId": "2be50132-e2d1-44c7-b362-88e454b560cc"
      },
      "outputs": [
        {
          "data": {
            "text/plain": [
              "array([5], dtype=int8)"
            ]
          },
          "execution_count": 84,
          "metadata": {},
          "output_type": "execute_result"
        }
      ],
      "source": [
        "sgd_clf.predict([some_digit])"
      ]
    },
    {
      "cell_type": "code",
      "execution_count": null,
      "metadata": {
        "id": "gOAKLBNawhL-",
        "outputId": "92e55715-d7be-42b1-ed83-7524da85deb8"
      },
      "outputs": [
        {
          "data": {
            "text/plain": [
              "array([[ -50458.5075631 , -136486.63842062,  -14135.49961456,\n",
              "         -10399.0572803 ,  -63068.57630296,   -3043.28005489,\n",
              "         -64103.92249307,  -68757.6494235 ,  -44670.30230201,\n",
              "         -27252.81246434]])"
            ]
          },
          "execution_count": 85,
          "metadata": {},
          "output_type": "execute_result"
        }
      ],
      "source": [
        "sgd_clf.decision_function([some_digit])"
      ]
    },
    {
      "cell_type": "code",
      "execution_count": null,
      "metadata": {
        "id": "YFoe0AhiwhL_",
        "outputId": "e3a22202-e5ca-4c27-b5df-8e0eb0d1d30b"
      },
      "outputs": [
        {
          "data": {
            "text/plain": [
              "array([0.88366667, 0.864     , 0.86916667, 0.87766667, 0.8725    ])"
            ]
          },
          "execution_count": 86,
          "metadata": {},
          "output_type": "execute_result"
        }
      ],
      "source": [
        "cross_val_score(estimator=sgd_clf, X=X_train, y=y_train, cv=5, scoring='accuracy', n_jobs=-1)"
      ]
    },
    {
      "cell_type": "code",
      "execution_count": null,
      "metadata": {
        "id": "Cp-qh-RAwhL_"
      },
      "outputs": [],
      "source": [
        "from sklearn.preprocessing import StandardScaler"
      ]
    },
    {
      "cell_type": "code",
      "execution_count": null,
      "metadata": {
        "id": "_nDoph8hwhMA"
      },
      "outputs": [],
      "source": [
        "scaler = StandardScaler()"
      ]
    },
    {
      "cell_type": "code",
      "execution_count": null,
      "metadata": {
        "id": "AQoeHF5swhMA"
      },
      "outputs": [],
      "source": [
        "X_train_scaled = scaler.fit_transform(X=X_train.astype(np.float64))"
      ]
    },
    {
      "cell_type": "code",
      "execution_count": null,
      "metadata": {
        "id": "coWcNXjPwhMA",
        "outputId": "5ad06136-321c-4021-e1f4-c664711629e0"
      },
      "outputs": [
        {
          "data": {
            "text/plain": [
              "array([0.908     , 0.90266667, 0.89116667, 0.90283333, 0.90733333])"
            ]
          },
          "execution_count": 90,
          "metadata": {},
          "output_type": "execute_result"
        }
      ],
      "source": [
        "cross_val_score(estimator=sgd_clf, X=X_train_scaled, y=y_train, scoring='accuracy', cv=5, n_jobs=-1)"
      ]
    },
    {
      "cell_type": "code",
      "execution_count": null,
      "metadata": {
        "id": "u7uIDeLOwhMB"
      },
      "outputs": [],
      "source": [
        "##Analyze Errors"
      ]
    },
    {
      "cell_type": "code",
      "execution_count": null,
      "metadata": {
        "id": "fcOeRQLowhMB"
      },
      "outputs": [],
      "source": [
        "y_train_predict = cross_val_predict(estimator=sgd_clf, X=X_train_scaled, y=y_train, cv=5, n_jobs=-1)"
      ]
    },
    {
      "cell_type": "code",
      "execution_count": null,
      "metadata": {
        "id": "qOkbV1_bwhMC",
        "outputId": "48065f84-09cb-450b-f7f2-d9d167afc920"
      },
      "outputs": [
        {
          "data": {
            "text/plain": [
              "array([[2806,    0,   15,    3,    4,   30,   18,    2,   83,    0],\n",
              "       [   1, 3252,   24,   13,    3,   28,    2,    3,   91,    6],\n",
              "       [  14,   18, 2572,   62,   39,   15,   36,   21,  165,    6],\n",
              "       [  12,   15,   68, 2651,    2,   96,   12,   26,  153,   38],\n",
              "       [   9,    7,   25,    6, 2622,    4,   20,    8,  129,   96],\n",
              "       [  15,   12,   18,   80,   41, 2261,   35,    6,  202,   39],\n",
              "       [  17,    6,   20,    0,   21,   48, 2801,    5,   57,    0],\n",
              "       [  10,    2,   31,   15,   27,    3,    3, 2821,   59,  136],\n",
              "       [   6,   34,   21,   53,    2,   59,   21,    3, 2651,   25],\n",
              "       [  18,   13,   16,   31,   62,   15,    1,   88,  124, 2635]])"
            ]
          },
          "execution_count": 93,
          "metadata": {},
          "output_type": "execute_result"
        }
      ],
      "source": [
        "conf_mtrx = confusion_matrix(y_true=y_train, y_pred=y_train_predict)\n",
        "conf_mtrx"
      ]
    },
    {
      "cell_type": "code",
      "execution_count": null,
      "metadata": {
        "id": "H9ReWScCwhMC",
        "outputId": "69948100-d15c-471c-e018-fdbdc5c0ff4e"
      },
      "outputs": [
        {
          "data": {
            "image/png": "[encoded data removed]",
            "text/plain": [
              "<Figure size 288x288 with 1 Axes>"
            ]
          },
          "metadata": {
            "needs_background": "light"
          },
          "output_type": "display_data"
        }
      ],
      "source": [
        "plt.matshow(A=conf_mtrx, cmap=plt.cm.gray)\n",
        "plt.show()"
      ]
    },
    {
      "cell_type": "code",
      "execution_count": null,
      "metadata": {
        "id": "xdDEEfFJwhMC"
      },
      "outputs": [],
      "source": [
        "row_sums = conf_mtrx.sum(axis=1, keepdims=True)"
      ]
    },
    {
      "cell_type": "code",
      "execution_count": null,
      "metadata": {
        "id": "5KXk1ATUwhMC"
      },
      "outputs": [],
      "source": [
        "normed_conf_mtrx = conf_mtrx / row_sums"
      ]
    },
    {
      "cell_type": "code",
      "execution_count": null,
      "metadata": {
        "id": "hzF3WzXtwhMC"
      },
      "outputs": [],
      "source": [
        "np.fill_diagonal(normed_conf_mtrx, val=0)"
      ]
    },
    {
      "cell_type": "code",
      "execution_count": null,
      "metadata": {
        "id": "7HqZXUKHwhMC",
        "outputId": "ab316921-a709-46b1-c9ea-d564e37ba73a"
      },
      "outputs": [
        {
          "data": {
            "image/png": "[encoded data removed]",
            "text/plain": [
              "<Figure size 288x288 with 1 Axes>"
            ]
          },
          "metadata": {
            "needs_background": "light"
          },
          "output_type": "display_data"
        }
      ],
      "source": [
        "plt.matshow(A=normed_conf_mtrx, cmap=plt.cm.gray)\n",
        "plt.show()"
      ]
    },
    {
      "cell_type": "code",
      "execution_count": null,
      "metadata": {
        "id": "J_CmLgRDwhMD"
      },
      "outputs": [],
      "source": [
        "cl_a, cl_b = 3, 5 "
      ]
    },
    {
      "cell_type": "code",
      "execution_count": null,
      "metadata": {
        "id": "0lc-WxhOwhMD"
      },
      "outputs": [],
      "source": [
        "X_aa = X_train[(y_train == cl_a) & (y_train_predict == cl_a)]\n",
        "X_ab = X_train[(y_train == cl_a) & (y_train_predict == cl_b)]\n",
        "X_ba = X_train[(y_train == cl_b) & (y_train_predict == cl_a)]\n",
        "X_bb = X_train[(y_train == cl_b) & (y_train_predict == cl_b)]"
      ]
    },
    {
      "cell_type": "code",
      "execution_count": null,
      "metadata": {
        "id": "x0siR2EHwhMD"
      },
      "outputs": [],
      "source": [
        "from math import ceil"
      ]
    },
    {
      "cell_type": "code",
      "execution_count": null,
      "metadata": {
        "id": "l3C56QdewhMD"
      },
      "outputs": [],
      "source": [
        "def plot_digits(instances, images_per_row=10, **options):\n",
        "    \"\"\"Plots digits on a grid of rows and columns\n",
        "    \n",
        "    # Arguments\n",
        "        instances: np.ndarray, the digits, where each is a flat array\n",
        "        images_per_row: int, how many digits to be displayed per row\n",
        "        options: other arguments for `plt.imshow()`\n",
        "    \"\"\"\n",
        "    size = 28\n",
        "    n_images = instances.shape[0]\n",
        "    images_per_row = min(images_per_row, n_images)\n",
        "    images = [instance.reshape(size, size) for instance in instances]\n",
        "    n_rows = ceil(n_images / images_per_row)\n",
        "    row_images = list()\n",
        "    n_empty = (n_rows * images_per_row) - n_images\n",
        "    images.append(np.zeros((size, size * n_empty)))\n",
        "    for row in range(n_rows):\n",
        "        rimages = images[row*images_per_row : (row+1)*images_per_row]\n",
        "        row_images.append(np.concatenate(rimages, axis=1))\n",
        "    image = np.concatenate(row_images, axis=0)\n",
        "    plt.imshow(image, cmap='binary', **options)\n",
        "    plt.axis('off')"
      ]
    },
    {
      "cell_type": "code",
      "execution_count": null,
      "metadata": {
        "id": "ec6lzxq7whMD",
        "outputId": "dbaf8498-b977-403f-c25a-1c0583fbe8a6"
      },
      "outputs": [
        {
          "data": {
            "image/png": "[encoded data removed]",
            "text/plain": [
              "<Figure size 576x576 with 4 Axes>"
            ]
          },
          "metadata": {
            "needs_background": "light"
          },
          "output_type": "display_data"
        }
      ],
      "source": [
        "plt.figure(figsize=(8,8))\n",
        "plt.subplot(221); plot_digits(X_aa[:25], images_per_row=5)\n",
        "plt.subplot(222); plot_digits(X_ab[:25], images_per_row=5)\n",
        "plt.subplot(223); plot_digits(X_ba[:25], images_per_row=5)\n",
        "plt.subplot(224); plot_digits(X_bb[:25], images_per_row=5)\n",
        "plt.show()"
      ]
    },
    {
      "cell_type": "code",
      "execution_count": null,
      "metadata": {
        "id": "qzPP9k06whMD"
      },
      "outputs": [],
      "source": [
        "##Classification -- Multilabel"
      ]
    },
    {
      "cell_type": "code",
      "execution_count": null,
      "metadata": {
        "id": "i76bHMKEwhMD"
      },
      "outputs": [],
      "source": [
        "from sklearn.neighbors import KNeighborsClassifier"
      ]
    },
    {
      "cell_type": "code",
      "execution_count": null,
      "metadata": {
        "id": "gbb4JLdrwhMD"
      },
      "outputs": [],
      "source": [
        "y_train_large = (y_train >= 7)\n",
        "y_train_odd = (y_train % 2 == 1)"
      ]
    },
    {
      "cell_type": "code",
      "execution_count": null,
      "metadata": {
        "id": "N4YsEIjHwhMD"
      },
      "outputs": [],
      "source": [
        "y_multilabel = np.c_[y_train_large, y_train_odd]"
      ]
    },
    {
      "cell_type": "code",
      "execution_count": null,
      "metadata": {
        "id": "TTGkTSglwhMD"
      },
      "outputs": [],
      "source": [
        "knn_clf = KNeighborsClassifier(n_jobs=-1)"
      ]
    },
    {
      "cell_type": "code",
      "execution_count": null,
      "metadata": {
        "id": "9NVk0ohNwhMD",
        "outputId": "e9ff5bd0-05c2-4e6e-db8e-0c139979f731"
      },
      "outputs": [
        {
          "data": {
            "text/plain": [
              "KNeighborsClassifier(n_jobs=-1)"
            ]
          },
          "execution_count": 108,
          "metadata": {},
          "output_type": "execute_result"
        }
      ],
      "source": [
        "knn_clf.fit(X=X_train, y=y_multilabel)"
      ]
    },
    {
      "cell_type": "code",
      "execution_count": null,
      "metadata": {
        "id": "VX01TRpCwhME",
        "outputId": "f73e2dc3-e281-43e0-fdeb-da63b1c742c1"
      },
      "outputs": [
        {
          "data": {
            "text/plain": [
              "array([[False,  True]])"
            ]
          },
          "execution_count": 109,
          "metadata": {},
          "output_type": "execute_result"
        }
      ],
      "source": [
        "knn_clf.predict(X=[some_digit])"
      ]
    },
    {
      "cell_type": "code",
      "execution_count": null,
      "metadata": {
        "id": "MLtkpxPFwhME",
        "outputId": "8dbeaa74-cbda-4d63-c368-07317a81eaf6"
      },
      "outputs": [
        {
          "data": {
            "text/plain": [
              "<matplotlib.image.AxesImage at 0x7fa5381e6e50>"
            ]
          },
          "execution_count": 110,
          "metadata": {},
          "output_type": "execute_result"
        },
        {
          "data": {
            "image/png": "[encoded data removed]",
            "text/plain": [
              "<Figure size 432x288 with 1 Axes>"
            ]
          },
          "metadata": {
            "needs_background": "light"
          },
          "output_type": "display_data"
        }
      ],
      "source": [
        "plt.imshow(some_digit.reshape(28, 28), cmap='binary')"
      ]
    },
    {
      "cell_type": "code",
      "execution_count": null,
      "metadata": {
        "id": "UadG7bhtwhMF"
      },
      "outputs": [],
      "source": [
        "from sklearn.metrics import f1_score"
      ]
    },
    {
      "cell_type": "code",
      "execution_count": null,
      "metadata": {
        "id": "bbZ2Xh0cwhMF"
      },
      "outputs": [],
      "source": [
        "y_train_knn_pred = cross_val_predict(estimator=knn_clf, X=X_train, y=y_multilabel, cv=5, n_jobs=-1)"
      ]
    },
    {
      "cell_type": "code",
      "execution_count": null,
      "metadata": {
        "id": "1Mc3ddESwhMF",
        "outputId": "9bfb49ba-cc91-4755-ecda-8f0d702bfa65"
      },
      "outputs": [
        {
          "data": {
            "text/plain": [
              "0.9720267778020544"
            ]
          },
          "execution_count": 113,
          "metadata": {},
          "output_type": "execute_result"
        }
      ],
      "source": [
        "score = f1_score(y_multilabel, y_train_knn_pred, average=\"macro\")\n",
        "score"
      ]
    },
    {
      "cell_type": "code",
      "execution_count": null,
      "metadata": {
        "id": "FIl76tRpwhMG"
      },
      "outputs": [],
      "source": [
        "##Classification -- Multi output"
      ]
    },
    {
      "cell_type": "code",
      "execution_count": null,
      "metadata": {
        "id": "25reu0JSwhMG"
      },
      "outputs": [],
      "source": [
        "noise = np.random.randint(low=0, high=100, size=(X_train.shape[0], 784))"
      ]
    },
    {
      "cell_type": "code",
      "execution_count": null,
      "metadata": {
        "id": "pYCXGnFKwhMG",
        "outputId": "074461a3-9c34-4883-ba24-5d9f35e155ce"
      },
      "outputs": [
        {
          "data": {
            "text/plain": [
              "(30000, 784)"
            ]
          },
          "execution_count": 115,
          "metadata": {},
          "output_type": "execute_result"
        }
      ],
      "source": [
        "X_train_mod = X_train + noise\n",
        "X_train_mod.shape"
      ]
    },
    {
      "cell_type": "code",
      "execution_count": null,
      "metadata": {
        "id": "94oTOVitwhMG"
      },
      "outputs": [],
      "source": [
        "noise = np.random.randint(low=0, high=100, size=(X_test.shape[0], 784))"
      ]
    },
    {
      "cell_type": "code",
      "execution_count": null,
      "metadata": {
        "id": "r7pISvP9whMG",
        "outputId": "b64fb46f-fd52-4200-f374-99b4878a6266"
      },
      "outputs": [
        {
          "data": {
            "text/plain": [
              "(5000, 784)"
            ]
          },
          "execution_count": 117,
          "metadata": {},
          "output_type": "execute_result"
        }
      ],
      "source": [
        "X_test_mod = X_test + noise\n",
        "X_test_mod.shape"
      ]
    },
    {
      "cell_type": "code",
      "execution_count": null,
      "metadata": {
        "id": "EjU65OWnwhMH"
      },
      "outputs": [],
      "source": [
        "y_train_mod = X_train.copy()\n",
        "y_test_mod = X_test.copy()"
      ]
    },
    {
      "cell_type": "code",
      "execution_count": null,
      "metadata": {
        "id": "p69l5TBPwhMH",
        "outputId": "c9adad6e-77e3-41c2-eff9-bd6838d3be8e"
      },
      "outputs": [
        {
          "data": {
            "image/png": "[encoded data removed]",
            "text/plain": [
              "<Figure size 432x288 with 2 Axes>"
            ]
          },
          "metadata": {
            "needs_background": "light"
          },
          "output_type": "display_data"
        }
      ],
      "source": [
        "fig, ax = plt.subplots(nrows=1, ncols=2)\n",
        "ax[0].imshow(X_train_mod[4:5].reshape(28, 28), cmap='binary'); ax[0].axis('off')\n",
        "ax[1].imshow(y_train_mod[4:5].reshape(28, 28), cmap='binary'); ax[1].axis('off')\n",
        "plt.show()"
      ]
    },
    {
      "cell_type": "code",
      "execution_count": null,
      "metadata": {
        "id": "4y0b6PmnwhMH",
        "outputId": "94a69682-2b88-474c-dbc6-8a46c482c651"
      },
      "outputs": [
        {
          "data": {
            "text/plain": [
              "KNeighborsClassifier(n_jobs=-1)"
            ]
          },
          "execution_count": 120,
          "metadata": {},
          "output_type": "execute_result"
        }
      ],
      "source": [
        "knn_clf.fit(X=X_train_mod, y=y_train_mod)"
      ]
    },
    {
      "cell_type": "code",
      "execution_count": null,
      "metadata": {
        "id": "m5wLOO6AwhMI"
      },
      "outputs": [],
      "source": [
        "clean_digit = knn_clf.predict(X=[X_test_mod[234]]).reshape(28, 28)"
      ]
    },
    {
      "cell_type": "code",
      "execution_count": null,
      "metadata": {
        "id": "HDzb8msmwhMI",
        "outputId": "27552df9-b37f-432c-e914-687f7347aff5"
      },
      "outputs": [
        {
          "data": {
            "image/png": "[encoded data removed]",
            "text/plain": [
              "<Figure size 432x288 with 2 Axes>"
            ]
          },
          "metadata": {
            "needs_background": "light"
          },
          "output_type": "display_data"
        }
      ],
      "source": [
        "fig, ax = plt.subplots(nrows=1, ncols=2)\n",
        "ax[0].imshow(clean_digit, cmap='binary'); ax[0].axis('off')\n",
        "ax[1].imshow(X_test_mod[234].reshape(28, 28), cmap='binary'); ax[1].axis('off')\n",
        "plt.show()"
      ]
    },
    {
      "cell_type": "code",
      "execution_count": null,
      "metadata": {
        "id": "diynqXlmwhMI"
      },
      "outputs": [],
      "source": [
        "## Building a classifier for the MNIST dataset that achieves over 97% accuracy over the test set."
      ]
    },
    {
      "cell_type": "code",
      "execution_count": null,
      "metadata": {
        "id": "Rdu69sR-whMI"
      },
      "outputs": [],
      "source": [
        "## Classifier to be used : KNeighbors classifier \n",
        "## Good hyperparameter values: Use grid search on weights and n_neighbors"
      ]
    },
    {
      "cell_type": "code",
      "execution_count": 1,
      "metadata": {
        "id": "0CLy3DxFwhMJ"
      },
      "outputs": [],
      "source": [
        "import numpy as np\n",
        "import pandas as pd\n",
        "import matplotlib.pyplot as plt\n",
        "import seaborn as sns \n",
        "sns.set_style()"
      ]
    },
    {
      "cell_type": "code",
      "source": [
        "!pip uninstall scikit-learn -y\n",
        "!pip install -U scikit-learn==0.23.2"
      ],
      "metadata": {
        "id": "J3CEz6CkzPuh"
      },
      "execution_count": null,
      "outputs": []
    },
    {
      "cell_type": "code",
      "source": [
        "import sklearn\n",
        "print('scikit-learn version: {}.'.format(sklearn.__version__))\n"
      ],
      "metadata": {
        "colab": {
          "base_uri": "https://localhost:8080/"
        },
        "id": "u1aBRXtFy2D4",
        "outputId": "abdba97b-7c91-46c8-8fde-3b7a03c06983"
      },
      "execution_count": 1,
      "outputs": [
        {
          "output_type": "stream",
          "name": "stdout",
          "text": [
            "scikit-learn version: 0.23.2.\n"
          ]
        }
      ]
    },
    {
      "cell_type": "code",
      "source": [
        "from sklearn.datasets import openml"
      ],
      "metadata": {
        "colab": {
          "base_uri": "https://localhost:8080/"
        },
        "id": "9jFDVg1Tzk79",
        "outputId": "56f7c1fc-fd36-485f-fb8c-930daf69644a"
      },
      "execution_count": 2,
      "outputs": [
        {
          "output_type": "stream",
          "name": "stderr",
          "text": [
            "/usr/local/lib/python3.7/dist-packages/sklearn/utils/deprecation.py:143: FutureWarning: The sklearn.datasets.openml module is  deprecated in version 0.22 and will be removed in version 0.24. The corresponding classes / functions should instead be imported from sklearn.datasets. Anything that cannot be imported from sklearn.datasets is now part of the private API.\n",
            "  warnings.warn(message, FutureWarning)\n"
          ]
        }
      ]
    },
    {
      "cell_type": "code",
      "execution_count": 3,
      "metadata": {
        "id": "g8Zsk41twhMJ"
      },
      "outputs": [],
      "source": [
        "mnist = openml.fetch_openml(name='mnist_784', version=1)"
      ]
    },
    {
      "cell_type": "code",
      "execution_count": 4,
      "metadata": {
        "colab": {
          "base_uri": "https://localhost:8080/"
        },
        "id": "r8QHnVCiwhMJ",
        "outputId": "ef285634-d08a-4325-d6b2-0d74255cc07b"
      },
      "outputs": [
        {
          "output_type": "execute_result",
          "data": {
            "text/plain": [
              "((70000, 784), (70000,))"
            ]
          },
          "metadata": {},
          "execution_count": 4
        }
      ],
      "source": [
        "X, y = mnist.data, mnist.target\n",
        "X.shape, y.shape"
      ]
    },
    {
      "cell_type": "code",
      "execution_count": 5,
      "metadata": {
        "colab": {
          "base_uri": "https://localhost:8080/"
        },
        "id": "8HS8Dqd3whMK",
        "outputId": "be3d135a-013b-42f4-9f70-40a5fe86ec4a"
      },
      "outputs": [
        {
          "output_type": "execute_result",
          "data": {
            "text/plain": [
              "((60000, 784), (60000,), (10000, 784), (10000,))"
            ]
          },
          "metadata": {},
          "execution_count": 5
        }
      ],
      "source": [
        "X_train, y_train, X_test, y_test = X[:60000], y[:60000], X[60000:], y[60000:]\n",
        "X_train.shape, y_train.shape, X_test.shape, y_test.shape"
      ]
    },
    {
      "cell_type": "code",
      "execution_count": 6,
      "metadata": {
        "id": "J322P5GWwhMK"
      },
      "outputs": [],
      "source": [
        "from sklearn.neighbors import KNeighborsClassifier"
      ]
    },
    {
      "cell_type": "code",
      "execution_count": 7,
      "metadata": {
        "id": "HjYdFMb_whMK"
      },
      "outputs": [],
      "source": [
        "knn_clf = KNeighborsClassifier(n_jobs=-1)"
      ]
    },
    {
      "cell_type": "code",
      "execution_count": 8,
      "metadata": {
        "id": "24ThmihnwhMK"
      },
      "outputs": [],
      "source": [
        "from sklearn.model_selection import cross_val_score"
      ]
    },
    {
      "cell_type": "code",
      "execution_count": null,
      "metadata": {
        "id": "fgISSFAXwhMK"
      },
      "outputs": [],
      "source": [
        "scores = cross_val_score(estimator=knn_clf, X=X_train, y=y_train, scoring='accuracy', cv=5, n_jobs=-1)"
      ]
    },
    {
      "cell_type": "code",
      "execution_count": null,
      "metadata": {
        "id": "5qH-Y-iZwhMK",
        "outputId": "cc4b27c9-d2ec-4df3-f480-ae8b22e10c33"
      },
      "outputs": [
        {
          "data": {
            "text/plain": [
              "array([0.96975   , 0.97016667, 0.96933333, 0.96816667, 0.969     ])"
            ]
          },
          "execution_count": 132,
          "metadata": {},
          "output_type": "execute_result"
        }
      ],
      "source": [
        "scores"
      ]
    },
    {
      "cell_type": "code",
      "execution_count": null,
      "metadata": {
        "id": "mU5p1iPgwhMK"
      },
      "outputs": [],
      "source": [
        "from sklearn.model_selection import GridSearchCV"
      ]
    },
    {
      "cell_type": "code",
      "execution_count": null,
      "metadata": {
        "id": "kLt8j9N5whMK"
      },
      "outputs": [],
      "source": [
        "grid = {\n",
        "    'weights': ['uniform', 'distance'],\n",
        "    'n_neighbors': [3, 4, 5]\n",
        "}"
      ]
    },
    {
      "cell_type": "code",
      "execution_count": null,
      "metadata": {
        "id": "mlXLjsk7whML"
      },
      "outputs": [],
      "source": [
        "grid_search_clf = GridSearchCV(estimator=knn_clf, param_grid=grid, scoring='accuracy', cv=5, verbose=3, n_jobs=-1)"
      ]
    },
    {
      "cell_type": "code",
      "execution_count": null,
      "metadata": {
        "id": "L7svpSnmwhML",
        "outputId": "83fa3305-450a-4afa-9494-9518c0b14cba"
      },
      "outputs": [
        {
          "name": "stdout",
          "output_type": "stream",
          "text": [
            "Fitting 5 folds for each of 6 candidates, totalling 30 fits\n"
          ]
        },
        {
          "name": "stderr",
          "output_type": "stream",
          "text": [
            "[Parallel(n_jobs=-1)]: Using backend LokyBackend with 8 concurrent workers.\n"
          ]
        }
      ],
      "source": [
        "grid_search_clf.fit(X=X_train, y=y_train)"
      ]
    },
    {
      "cell_type": "code",
      "execution_count": null,
      "metadata": {
        "id": "VpX38NkzwhML"
      },
      "outputs": [],
      "source": [
        "grid_search_clf.best_score_"
      ]
    },
    {
      "cell_type": "code",
      "execution_count": null,
      "metadata": {
        "id": "_tv5p4gAwhML"
      },
      "outputs": [],
      "source": [
        "grid_search_clf.best_params_"
      ]
    },
    {
      "cell_type": "code",
      "execution_count": null,
      "metadata": {
        "id": "zeq_pa1hwhML"
      },
      "outputs": [],
      "source": [
        "knn_classifier = KNeighborsClassifier(n_neighbors=4, weights='distance', n_jobs=-1)"
      ]
    },
    {
      "cell_type": "code",
      "execution_count": null,
      "metadata": {
        "id": "ve3oTczHwhML"
      },
      "outputs": [],
      "source": [
        "knn_classifier.fit(X=X_train, y=y_train)"
      ]
    },
    {
      "cell_type": "code",
      "execution_count": null,
      "metadata": {
        "id": "0sO-b016whML"
      },
      "outputs": [],
      "source": [
        "knn_classifier.score(X=X_test, y=y_test)"
      ]
    },
    {
      "cell_type": "code",
      "execution_count": null,
      "metadata": {
        "id": "TDuDP11HwhML"
      },
      "outputs": [],
      "source": [
        "from joblib import dump"
      ]
    },
    {
      "cell_type": "code",
      "execution_count": null,
      "metadata": {
        "id": "zY4pLlOHwhML"
      },
      "outputs": [],
      "source": [
        "dump(knn_classifier, 'knn_MNIST_97.joblib')"
      ]
    },
    {
      "cell_type": "code",
      "execution_count": null,
      "metadata": {
        "id": "ob_skX5twhML"
      },
      "outputs": [],
      "source": [
        "## Function that can shift an MNIST image in any direction"
      ]
    },
    {
      "cell_type": "code",
      "execution_count": null,
      "metadata": {
        "id": "nGgf-RM4whML"
      },
      "outputs": [],
      "source": [
        "from scipy.ndimage.interpolation import shift\n",
        "from sklearn.metrics import accuracy_score"
      ]
    },
    {
      "cell_type": "code",
      "execution_count": null,
      "metadata": {
        "id": "OCiwlunrwhML"
      },
      "outputs": [],
      "source": [
        "def shift_digit(imgs, direction):\n",
        "    \"\"\"Shifts image by 1 pixel in any direction\n",
        "    \n",
        "    # Arguments\n",
        "        imgs: np.ndarray, contains flattened digit images\n",
        "        direction: string, direction you want to shift the pixels in. \\in {'left', 'right', 'up', 'down'}\n",
        "    \n",
        "    # Returns\n",
        "        shifted: np.ndarray, the resulting shifted image\n",
        "    \"\"\"\n",
        "    dir_to_shift = {\n",
        "        'up': [0, -1, 0],\n",
        "        'down': [0, 1, 0],\n",
        "        'left': [0, 0, -1],\n",
        "        'right': [0, 0, 1]\n",
        "    }\n",
        "    return shift(imgs.reshape(-1, 28, 28), shift=dir_to_shift[direction], cval=0).reshape(-1, 28*28)"
      ]
    },
    {
      "cell_type": "code",
      "execution_count": null,
      "metadata": {
        "id": "P1UnAm6GwhMM"
      },
      "outputs": [],
      "source": [
        "up_shifted_X_train = shift_digit(X_train, 'up')\n",
        "down_shifted_X_train = shift_digit(X_train, 'down')\n",
        "left_shifted_X_train = shift_digit(X_train, 'left')\n",
        "right_shifted_X_train = shift_digit(X_train, 'right')"
      ]
    },
    {
      "cell_type": "code",
      "execution_count": null,
      "metadata": {
        "id": "uEG159hFwhMN"
      },
      "outputs": [],
      "source": [
        "aug_X_train = np.concatenate((up_shifted_X_train, down_shifted_X_train, left_shifted_X_train, right_shifted_X_train), axis=0)\n",
        "aug_X_train.shape"
      ]
    },
    {
      "cell_type": "code",
      "execution_count": null,
      "metadata": {
        "id": "2fnUyBD-whMO"
      },
      "outputs": [],
      "source": [
        "aug_y_train = np.concatenate((y_train, y_train, y_train, y_train), axis=0)\n",
        "aug_y_train.shape"
      ]
    },
    {
      "cell_type": "code",
      "execution_count": null,
      "metadata": {
        "id": "1PTXmgeZwhMO"
      },
      "outputs": [],
      "source": [
        "import random"
      ]
    },
    {
      "cell_type": "code",
      "execution_count": null,
      "metadata": {
        "id": "F8d5T6g4whMO"
      },
      "outputs": [],
      "source": [
        "def shuffle_X_y(X, y):\n",
        "    \"\"\"Shuffles two arrays using indexes\n",
        "    \n",
        "    # Arguments\n",
        "        X: np.ndarray, input\n",
        "        y: np.ndarray, output\n",
        "    \n",
        "    # Returns\n",
        "        shuffled_X: np.ndarray\n",
        "        shuffled_y: np.ndarray\n",
        "    \"\"\"\n",
        "    indices = list(range(X.shape[0]))\n",
        "    random.shuffle(indices)\n",
        "    return X[indices], y[indices]"
      ]
    },
    {
      "cell_type": "code",
      "execution_count": null,
      "metadata": {
        "id": "WhEF0g-1whMP"
      },
      "outputs": [],
      "source": [
        "X_train.shape, aug_X_train.shape, y_train.shape, aug_y_train.shape"
      ]
    },
    {
      "cell_type": "code",
      "execution_count": null,
      "metadata": {
        "id": "9yQrCYLtwhMP"
      },
      "outputs": [],
      "source": [
        "X_train = np.concatenate((X_train, aug_X_train), axis=0)\n",
        "y_train = np.concatenate((y_train, aug_y_train), axis=0)"
      ]
    },
    {
      "cell_type": "code",
      "execution_count": null,
      "metadata": {
        "id": "EiHWiE69whMP"
      },
      "outputs": [],
      "source": [
        "X_train.shape, y_train.shape"
      ]
    },
    {
      "cell_type": "code",
      "execution_count": null,
      "metadata": {
        "id": "5tzWQW7FwhMP"
      },
      "outputs": [],
      "source": [
        "X_train, y_train = shuffle_X_y(X_train, y_train)"
      ]
    },
    {
      "cell_type": "code",
      "execution_count": null,
      "metadata": {
        "id": "AAFTdR7vwhMP"
      },
      "outputs": [],
      "source": [
        "plt.imshow(X_train[99].reshape(28,28), cmap='binary')\n",
        "plt.axis('off')\n",
        "plt.show()"
      ]
    },
    {
      "cell_type": "code",
      "execution_count": null,
      "metadata": {
        "id": "YKdfpgm4whMP"
      },
      "outputs": [],
      "source": [
        "y_train[99]"
      ]
    },
    {
      "cell_type": "code",
      "execution_count": null,
      "metadata": {
        "id": "YOWwncgZwhMP"
      },
      "outputs": [],
      "source": [
        "knn_classifier = KNeighborsClassifier(n_neighbors=4, weights='distance', n_jobs=-1)"
      ]
    },
    {
      "cell_type": "code",
      "execution_count": null,
      "metadata": {
        "id": "iglP-WSrwhMP"
      },
      "outputs": [],
      "source": [
        "knn_classifier.fit(X=X_train, y=y_train)"
      ]
    },
    {
      "cell_type": "code",
      "execution_count": null,
      "metadata": {
        "id": "ItYlmdT_whMP"
      },
      "outputs": [],
      "source": [
        "y_hat = knn_classifier.predict(X=X_test)\n",
        "accuracy_score(y_true=y_test, y_pred=y_hat)"
      ]
    }
  ],
  "metadata": {
    "kernelspec": {
      "display_name": "Python 3",
      "language": "python",
      "name": "python3"
    },
    "language_info": {
      "codemirror_mode": {
        "name": "ipython",
        "version": 3
      },
      "file_extension": ".py",
      "mimetype": "text/x-python",
      "name": "python",
      "nbconvert_exporter": "python",
      "pygments_lexer": "ipython3",
      "version": "3.8.5"
    },
    "colab": {
      "provenance": [],
      "include_colab_link": true
    },
    "accelerator": "GPU"
  },
  "nbformat": 4,
  "nbformat_minor": 0
}